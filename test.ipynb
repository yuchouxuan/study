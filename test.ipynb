{
 "cells": [
  {
   "cell_type": "code",
   "execution_count": 1,
   "metadata": {},
   "outputs": [],
   "source": [
    "from gmpy2 import  *\n",
    "import gmpy2 \n",
    "import numpy as np\n",
    "import matplotlib.pyplot as plt\n",
    "from tqdm.notebook import * "
   ]
  },
  {
   "cell_type": "code",
   "execution_count": 23,
   "metadata": {},
   "outputs": [],
   "source": [
    "wavelen=4099\n",
    "BinF=512\n",
    "ByteinFrame=BinF//8\n",
    "dx=const_pi()/wavelen\n",
    "def makeWave(x=1):\n",
    "    d=dx*8*x\n",
    "    alpha=0\n",
    "    arr=[]\n",
    "    for i in range(wavelen):\n",
    "        arr.append(float(sin(alpha)))\n",
    "        alpha+=d\n",
    "    return np.array(arr)\n",
    "\n",
    "\n"
   ]
  },
  {
   "cell_type": "code",
   "execution_count": 24,
   "metadata": {
    "scrolled": true
   },
   "outputs": [
    {
     "data": {
      "application/vnd.jupyter.widget-view+json": {
       "model_id": "217c6eadc0d94003a176e477066d772f",
       "version_major": 2,
       "version_minor": 0
      },
      "text/plain": [
       "HBox(children=(HTML(value=''), FloatProgress(value=0.0, max=64.0), HTML(value='')))"
      ]
     },
     "metadata": {},
     "output_type": "display_data"
    },
    {
     "data": {
      "application/vnd.jupyter.widget-view+json": {
       "model_id": "0f261c5ccb7d4c6496e7685c65cf620a",
       "version_major": 2,
       "version_minor": 0
      },
      "text/plain": [
       "HBox(children=(HTML(value=''), FloatProgress(value=0.0, max=70.0), HTML(value='')))"
      ]
     },
     "metadata": {},
     "output_type": "display_data"
    },
    {
     "name": "stdout",
     "output_type": "stream",
     "text": [
      "\n"
     ]
    },
    {
     "data": {
      "text/plain": [
       "(286930, 222.5266115015814, -222.5266114998807)"
      ]
     },
     "execution_count": 24,
     "metadata": {},
     "output_type": "execute_result"
    }
   ],
   "source": [
    "flagb= open('c:/ctf/flag.png','rb').read()\n",
    "bm=0x80\n",
    "tbar = tqdm(total=64)\n",
    "wavedat=np.array([])\n",
    "for Frame in trange(0,len(flagb),ByteinFrame):\n",
    "    ax = np.array([0. for i in range(wavelen)])\n",
    "    for bcont in range(ByteinFrame):\n",
    "        try:\n",
    "            x= flagb[Frame+bcont]\n",
    "        except:\n",
    "            x=0x0\n",
    "        for i in range(8):\n",
    "                if(x&(bm>>i))!=0:\n",
    "                    ax = ax + makeWave(bcont*8+i+1)               \n",
    "        tbar.update(1)\n",
    "    wavedat = np.append(wavedat,ax)\n",
    "    tbar.update(-64)\n",
    "len(wavedat),max(wavedat),min(wavedat)\n"
   ]
  },
  {
   "cell_type": "code",
   "execution_count": 44,
   "metadata": {},
   "outputs": [
    {
     "data": {
      "text/plain": [
       "(286930, 28928, -28928)"
      ]
     },
     "execution_count": 44,
     "metadata": {},
     "output_type": "execute_result"
    }
   ],
   "source": [
    "WD=np.array(wavedat*130,dtype=np.int16)\n",
    "WD=WD.tolist()\n",
    "len(WD),max(WD),min(WD)"
   ]
  },
  {
   "cell_type": "code",
   "execution_count": 50,
   "metadata": {
    "scrolled": true
   },
   "outputs": [
    {
     "name": "stdout",
     "output_type": "stream",
     "text": [
      "params: _wave_params(nchannels=1, sampwidth=2, framerate=8000, nframes=286930, comptype='NONE', compname='not compressed')\n"
     ]
    },
    {
     "data": {
      "application/vnd.jupyter.widget-view+json": {
       "model_id": "a309cab07a1c4c35b9908c6d50573844",
       "version_major": 2,
       "version_minor": 0
      },
      "text/plain": [
       "HBox(children=(HTML(value=''), FloatProgress(value=0.0, max=70.0), HTML(value='')))"
      ]
     },
     "metadata": {},
     "output_type": "display_data"
    },
    {
     "name": "stdout",
     "output_type": "stream",
     "text": [
      "\n",
      "PNG\r\n",
      "\u001a\n",
      "\u0000\u0000\u0000\r",
      "IHDR\u0000\u0000\u0001t\u0000\u0000\u00003\b\u0003\u0000\u0000\u0000°\u0003\u0001\u0000\u0000\u0000\u0019tEXtSoftware\u0000Adobe ImageReadyqÉe<\u0000\u0000\u0003\"iTXtXML:com.adobe.xmp\u0000\u0000\u0000\u0000\u0000<?xpacket begin=\"ï»¿\" id=\"W5M0MpCehiHzreSzNTczkc9d\"?> <x:xmpmeta xmlns:x=\"adobe:ns:meta/\" x:xmptk=\"Adobe XMP Core 5.3-c011 66.145661, 2012/02/06-14:56:27        \"> <rdf:RDF xmlns:rdf=\"http://www.w3.org/1999/02/22-rdf-syntax-ns#\"> <rdf:Description rdf:about=\"\" xmlns:xmp=\"http://ns.adobe.com/xap/1.0/\" xmlns:xmpMM=\"http://ns.adobe.com/xap/1.0/mm/\" xmlns:stRef=\"http://ns.adobe.com/xap/1.0/sType/ResourceRef#\" xmp:CreatorTool=\"Adobe Photoshop CS6 (Windows)\" xmpMM:InstanceID=\"xmp.iid:65376C154B1D11EBAB6BC43C9C9EB537\" xmpMM:DocumentID=\"xmp.did:65376C164B1D11EBAB6BC43C9C9EB537\"> <xmpMM:DerivedFrom stRef:instanceID=\"xmp.iid:65376C134B1D11EBAB6BC43C9C9EB537\" stRef:documentID=\"xmp.did:65376C144B1D11EBAB6BC43C9C9EB537\"/> </rdf:Description> </rdf:RDF> </x:xmpmeta> <?xpacket end=\"r\"?>\u001c",
      "Ç[I\u0000\u0000\u0000\u0018PLTE~~~BBB¹¹¹\u001f\u001f\u001fààà\u0000\u0000\u0000   ßßß\"\u0017ï¶\u0000\u0000\r",
      "ÈIDATxÚÌZ¢$§\r",
      "\u0004¤ÿÿãL£«$èõ:~ëdâìé£T*\tA[¼ÿÏþÃì_¿ßY/Ú\u0005yZ×·àµ\u0005\u000f³4lÿÕ>9ºYpSZH]h£ÒH¾£#´Î8ºô!Ãü}~Ñ\u0018c\u000f«\u0005ûcôÅ1ÚÀó\u0017\u0000XÚä\"\u0007Ì¹?f9wìÀíî\u0019'!°¾À`0V\u001b*½¯\u0003A\\ÃIg\u0010á\u0003ösËé`3¾\f",
      "\u0000ú«3Jøù\u0014ËL¸\u0001JÀå\u0002ÑÛü+ß\u0001úÄÜ ùaÑ\n",
      "y¢§)#¸`6\u0006Á\u0015\u0005\u0014ð6®å\u000e\u000fâ\u0002ÛlÓ³%­(b.ÒÔ _Y\u000b",
      "8³µN«\u000b",
      ".plÑÃ\n",
      "É\u0013ü«Sg/_;KêÈÉö¼\u000eI<ùÄ7vñ)6ET×9õ\u000b",
      "XÄy}å%úéï>~¢ï<Þ¯}\u001f\u001bÌÈ`ØØ­|?ùæ%jÃFÏ\u0013ë\u0014ü4\u000f®öJzX¿þ\u001c",
      "Ú¾à\u0010\u0011Ð}¸}>ó00'jK Ë|1aÿmúØO4GtÐÇàrçãCvöç\u0001=L6\u000e\u000ei\"O\u000fuéçé¶ï~©Í\u000f~zï³\u0004Cûé3\u0006@ùÂæ\u0014. sæ|ôË+û^\u0000¹¯\u001c",
      "vçâ\\A÷\f",
      "mÜ\"¶Íß\u0007^Ü+Ó6è5Å`Cs\u000eÈ\u001d",
      "¯sNÕ\u0015rG¹gÐ\u0007îL\u000e \u001c",
      "Êá¹È\u0003ß\u000e&SyZÎt>½&¼²GßR0íØØî@jíÎ=\u0012î> ^o\u0003ä}uD\n",
      "O\\\bôÒ»2þñ¹Ö»Yã³]õ[ð«Ò¨vá\u0011Î\f",
      "ó®7øÜ34\u000e¦£¶ÖÜ/vçôuÏ·\tÁy·ÙU^\u0016Èá\u0011sÄyä4 ¾ªò\u0018\u001e",
      "/9öþXø3\u0016F\u0004\u000f\u0017CáÏ+ÔÍøLr\u0004Hàã-\\tÕ¬Íô\u001a¹¤28\u0004^%ßµ_c®mA=\u0002(N=àâñÅ\u001d",
      "*h\u001e",
      "&yAï|Æ¡À¶ä¯ÍK¿\u001d",
      "y>v'#fNváZê<P .\u001a\u0000Øº\u0004 è¨ö\u0005¡b¼\u0019é3\u0013o»y.K\u0004ÜîÅ\u0012Ö¾ÑV\u001e",
      "\r",
      "î¦ÓK°jÝÂ®wê,±\u0018©ôVä_ÑMLÜ®L¿y.3~\u001aU\u001bODibÓg4À{}EC\u0000¹MÆ\u0016\u0005Q?\u001d",
      "ïÙÙöCBÔ\u0016\tN~FÐz&7å1íÎ@bîg\u0019y",
      "úÀþféEß¿»ñ\u001c",
      "A'¤¶2ö\u001b\u0013xâyÕgÀ·×ëõ=PÁÎÇà7¾M\u0007)'FJO\"L{VäcÜòb\u0018|°ÑìØ i0_{¡Ç\u0003Í\u0000\f",
      "QTy\u0002Mzê³\t÷øÌþFF\u001fù­yÊ©éícÜ¦he9U³þ:¿9²²ö´Ó\u0013öû}yZüh,h\n",
      "\u0011ßÕç\u0019º4t¦\f",
      "\u0016ãgÛt«ã!>E¼VÐ¾<º\u000f¡é|[D«fbwB1\u0018M\u0003i3õÜ\u0010XDs\tU¦\u0003\u0013?a(%>kÜì\u0016\u0017õÎMÃ,×d9øÝ\u0000t\\tÞó5r5gU\u001f\f",
      "±T)!%M»,¨!åëþ]òøÐæu·Äo¿áù\u0010É\u0018%fnéý\b$Ûù\u001e",
      ";z\u0016\u001c",
      "\r",
      "ômäQé",
      "÷ÜJS+-Ä<Ü\u0017MgS\u0016vn?íqmaxnç\u001e",
      "Ïý\u0016B½ÒÐQb2OqÓ`²]ì)ðÃ\u0010\u001e",
      "S\u001bá\u0004\u0017zcú²yûê3g/±R\u0019Î\u0013ÊÔä4¯Óé±ÆíËè\b©îµÈÃ[^r^¹®!Í¤ZÔdx·Ðeyõ¬kæ!WUØ\u0010Ö~ÔÓ=O7ÞÆTPÌû§`9'ú aÝ¾i\u001e",
      "HÁh\u001bcÕáMÏ\f",
      "º!ûÜ6\n",
      "ÈOéº:í\u0006zhB¶ç¤ídúQµÔ¤if¦\u000b",
      "|¥ðÐ\u0014ø\u001e",
      "ÁG*:\u001d",
      "\r",
      "ár7§ú7îå&\u000eÔþ\"ù±òE¦ò\"UF.Ît\u001bçãÖ;\u0004Çq~\u0007õI1N®q=\u0016x\u0004Ô×)7\u0019y\f",
      "§ÅLwt\u00138gú²¦ÔXäÒ2ç{zÄÑ\bf÷\\ZÍa ·º0â\"/}H²\u0017­Æ(ÓY\u0003©§\u000b",
      "\u0016¼Ü¦¡ðx\u000b",
      "\u001a\n",
      "º\u001awG\u0018\u0004ýAhN2n})\tuèðð¤k(¤àg_R1Õ¿ÓRÂÈ9z.%D<µÚr-\u0007ÒB\u0000Çg\u0007KÑÝÂÙP\r",
      "d­åªZZÍcMö\u0006}²¼X½jFö²ø\u00175wjÅäE*oO4\u001e",
      "½GÅÅJ«Êyä¸,ùvî6<ãtîB.o¹k\b(HUéPthÁK\u0019ÿ\f",
      "{¶ËV\"ã\u0011Q\u0006¢F±j\u0018c\r",
      "3«x<B aÍ×¾2ÚªÀ\u0017",
      "96>©\u0015õD«Ó+Ããð!,|ø\u0013èiq¤õ»Çº\u001bü·k",
      "é\u0014sÂPªÍ\u0014H¹}`µ+\u0011¾jô£û×é»\u0012ZöH×%{d¯\u001c",
      "î\u001f»àÝVÈËàÿ\u000fdºØnêð¡\u0015¶×3©)µ^Ö¡­nSÕ\u0019`)SÝZV½1¾Ï\u0010¬3¿¬¡º\u0019-<\u0018I^¼ì¯Ã\u0006¡¢f0<h\n",
      "(d#Ø2èZçc^Q1Â{æ¼sÃ«k±lkå¼n»Âþ¢M¸[\\\\\u0004¤½Ð¼\u001d",
      "\f",
      "[G1Ó\u0005^#\u0006¹`|)ÜÁ?æx\b`]*\u0016Ú^\u00124\t«­s§Ì\u000b",
      "e°#\u0004÷%Ja¯;÷QèHÙ>\tu>!BOÛ\u001b-\u0001Çuçø¾i\n",
      "J÷\u0001æË=¼5og\u000eÒÞçe0uç©Ô×½ÊêKÆõpÆÅ;~uÉñùbAÆ-cë\u001e",
      "\u000b",
      "ªÒ\n",
      "ûv\u001d",
      "_6\u000f\u001e",
      "åy\u001e",
      "'\u000b",
      "ÊÅQ°Í\u001c",
      "[ÏÅû\u0019t¾q&\t\u0010t®\\ãzÒ\u0007«ÖRXçv?&p¸øc\u001bø<Ó\u0011^Ïõ0\u0006C+:V÷qøî'\\7\u0010Öëãä\u0014×:Å«an\u0005¸\u001e",
      "$:9ßÊñÇ.|paézrÝ\u0018$tK>\u000et¥½ëñ«³ÂÓâÊ¸9àÃça$ÛÌxVï\u0007Q8\n",
      "WuO¾\u0001\b\u0007]ê9\u0011N¥G~N°\u0004L;;çÞ·K*y\u001d",
      "´\u001e",
      "ÂZÇ°|\n",
      "µPl\u001d",
      "¡»\u0004ÉrÎ",
      "Ï#+Té\f",
      "\u0007\u0017",
      "O\u0007Dê®\u001d",
      "xEr\u0006ãTM%ÂuøzÎëWÇdÐY\u0003é%\u0007X¸ÎÌï\u000eIwXá#\u00119©Ê\\0cÏ|ÉÞOq9Zu\u001e",
      "1,[nåà\u0003\u0017ÁtRÆ¾à¹\u0019k\n",
      "\u0007¢Â#;ûN£)\u001fúþOÿË\u001f¸@û¡çQê;\u0004\r",
      "ù»ï¶\u00047\b:#¸GéIÂßÞÊ0èÒ¿<·\u001f-ÝNkÂ/{WÐTz>Z¥:\u001f¼¿\u0004}\u0017+Ñ ¾Tma#3?¶\"JØÇpòÅ\u0004>ÙZÞo\u0012¥yåïa¡\u0006áT\bÌ4oH\u0003\u000f\u0012Q\u0000v|ùD²Ð25*ûükYS²\u0011\u0018YFÁ2}ê\\è\u0006\u0001Ùh\u0011á\u0004©\u0012^#p\u0019:LEd½ºÏD;Ñ\u0017eÏ£:ùy÷Îw\u001c",
      "ÃF/Öq/o>Ödâ Þîöïivý3Ë\u001d",
      "ûW¾tùAÏî¨úäMåÄuáÕT&\u000b",
      "h£\b\u0011\u0015j\f",
      "~'8\u0011JÞ\u0004%º£\u0018Ólú\u0004b\u0010|îé£HöNdv\n",
      "´Éïë?»þ<ÒÕOúó¿Núÿ$\bY¬@*étïËÕÒ\u000b",
      "Ù\u0004Tiá¦\u0003§\u0019Aìæ\u0006¹gó2:\f",
      "T\f",
      "Ú\b`\u000b",
      "G÷«I8\u001f Ð\bn\u000b",
      "§n··ºàFÝì@jD¡þt³\u0005æYÜé*(ÿ\tT¢I§)f\u0013:(mqÕ\u0003\u0012",
      "êQÇè½Ú´\u001aï%\u000b",
      "IlkºÒ\u0017\r",
      "6ÿ±PÖØktw\u0007°üCê\n",
      "scOÓ\u0018\u000eúRH\r",
      "zOòèË¤è¬I%\u0011\u000b",
      "ß:ó©\u0017M¹Ùõ\u0014¤ÈUèHÑ\u001aÐar",
      "P6vcc\u0010¥¼5^w¢è¾ëèä´oD7ï(\u0015\u0004¡¬^S\u0001h^fþÆÆ[jK¿Ð\u0014ñé0\u0006\u0015mÁð ë@]»\u0000L\u0011\u0004\u0002þ!ñ½Gd\r",
      "±¢iWäÜ%\f",
      "2ÍC§\u0010Ó_,'²/Ó¬×\u0011{\tÝ¢Ò\u0011#\n",
      "Æmª\t\u0006eóSÒ0ª3Ò_!/\n",
      "ÖóÅ\tÚ»³z2ú\u0013È[Ì,ãRxônoQ¼É(]ÔºÈaY]À®¢D÷ÞoÒýÝ\u0017Ù®K¬vWsëÈ[@¨\f",
      "í!ðéT.Ì\tñÓ´r¶\u0011j$>G]\u0013®cÕxKÏ\t¿£E99¥Óµ(Ò|Ð\u0014º½}ÿx1-~0\t¸\u001e",
      "ÚJJ\u00165Mã\u001d",
      "ð =Ù=ÐwKñIS\u001e",
      "×±· Oöûó\u000f^=ÛøÛM\u001d",
      "¯ÜÛh\f",
      "*[{O #Ó©\u0017¦»|ïvÏöÉW>°»Ib1U41Mvþ¹Ï{'¿ßû+¶¿i8e:ÉÇ\"£¹\u001e",
      ".+]Ø§ç]ÿ\u0012MÏ\u001fÉC_¦¡5é\u0015ý\u0016Õè\u0007Xú+¿ÛÙ\u0002\u0002©®5gÐ4¯",
      "ú©é^\u0002  ½è·Æ",
      "ÞÓw¦4ÿKÎý\u0017Óÿ7¼èw;i\u001c",
      "ZdsDºÔJèu\u0010àï\u0006\"Ë\bgª\u0006Dê2sá\u0006Ö\u000f¿ñOBø\f",
      "ÿý^éo*SË\u0019%\u0005@QÀ\u0002sl\u0016{(E¿& æ\u0014bK´\\²\u0017L^þÁ\u001bÜ'.õô^\u000b",
      "\u0004<½\taÍÄ~Ô\u001c",
      "®åç\u001fåÜü09ÿ¸¨µ\\K§(\u000fÎ[õ>ËÂ±æ~Y]°&È_2CüIlÿXÎÔ\u0010»[\u0001óeçgÞJÍtY'Ï·¢5½/ó~\u0000 ÿqúùL¿ \bõ'¢ë2Q¼>ItÔè²À¾_ø?\u0001ê'ýì5O§ÄæÂÍ;^÷{.E\r",
      "¨\u0002\u0011÷=iü§ý\u001e",
      "\u0004ÿ\u0015½ùýÕÁþñ\u001f\u0001\u0006\u0000ªÿ\u0004J»W\u0000\u0000\u0000\u0000IEND®B`\u0000\u0000\u0000\u0000\u0000\u0000\u0000\u0000\n"
     ]
    },
    {
     "data": {
      "text/plain": [
       "4480"
      ]
     },
     "execution_count": 50,
     "metadata": {},
     "output_type": "execute_result"
    }
   ],
   "source": [
    "import utfc.SoundF as sof\n",
    "#sof.CreateWav(fn='c:/ctf/misc1.wav', datas=WD, framerate=8000, channel=1, sampwidth=2)\n",
    "wavf=sof.WavF('c:/ctf/misc1.wav')\n",
    "data=[]\n",
    "for Frame in trange(0,len(wavf.waveData),wavelen):\n",
    "    a=wavf.waveData[Frame:Frame+wavelen]\n",
    "    fft_data=np.abs(np.fft.fft(a))[:wavelen//2]\n",
    "    strbyte=''\n",
    "    for i in range(4,len(fft_data),4):\n",
    "        if fft_data[i]>1000 :strbyte+='1'\n",
    "        else: strbyte+='0'\n",
    "    for i in range(0,len(strbyte),8):\n",
    "        data.append(int(strbyte[i:i+8],2))\n",
    "open('c:/ctf/misc_flag.png','wb').write(bytes(data))"
   ]
  },
  {
   "cell_type": "code",
   "execution_count": null,
   "metadata": {},
   "outputs": [],
   "source": []
  },
  {
   "cell_type": "code",
   "execution_count": 29,
   "metadata": {},
   "outputs": [
    {
     "name": "stdout",
     "output_type": "stream",
     "text": [
      "c:/ctf/yf2.png 2048 1365 3\n"
     ]
    },
    {
     "data": {
      "application/vnd.jupyter.widget-view+json": {
       "model_id": "8074216b8bb84dd4bc68dd0399439a3e",
       "version_major": 2,
       "version_minor": 0
      },
      "text/plain": [
       "HBox(children=(HTML(value=''), FloatProgress(value=0.0, max=4472.0), HTML(value='')))"
      ]
     },
     "metadata": {},
     "output_type": "display_data"
    },
    {
     "name": "stdout",
     "output_type": "stream",
     "text": [
      "\n"
     ]
    },
    {
     "ename": "AttributeError",
     "evalue": "'imgBase' object has no attribute 'save'",
     "output_type": "error",
     "traceback": [
      "\u001b[1;31m---------------------------------------------------------------------------\u001b[0m",
      "\u001b[1;31mAttributeError\u001b[0m                            Traceback (most recent call last)",
      "\u001b[1;32m<ipython-input-29-860cf81cf912>\u001b[0m in \u001b[0;36m<module>\u001b[1;34m\u001b[0m\n\u001b[0;32m     15\u001b[0m \u001b[0mib\u001b[0m\u001b[1;33m=\u001b[0m\u001b[0mib\u001b[0m\u001b[1;33m.\u001b[0m\u001b[0mreshape\u001b[0m\u001b[1;33m(\u001b[0m\u001b[0mshape_pic\u001b[0m\u001b[1;33m)\u001b[0m\u001b[1;33m\u001b[0m\u001b[1;33m\u001b[0m\u001b[0m\n\u001b[0;32m     16\u001b[0m \u001b[1;33m\u001b[0m\u001b[0m\n\u001b[1;32m---> 17\u001b[1;33m \u001b[0mimg\u001b[0m\u001b[1;33m.\u001b[0m\u001b[0msave\u001b[0m\u001b[1;33m(\u001b[0m\u001b[1;34m'c:/ctf/flaginpng.png'\u001b[0m\u001b[1;33m)\u001b[0m\u001b[1;33m\u001b[0m\u001b[1;33m\u001b[0m\u001b[0m\n\u001b[0m\u001b[0;32m     18\u001b[0m \u001b[1;33m\u001b[0m\u001b[0m\n",
      "\u001b[1;31mAttributeError\u001b[0m: 'imgBase' object has no attribute 'save'"
     ]
    }
   ],
   "source": []
  },
  {
   "cell_type": "code",
   "execution_count": 7,
   "metadata": {},
   "outputs": [
    {
     "ename": "AttributeError",
     "evalue": "'numpy.ndarray' object has no attribute 'append'",
     "output_type": "error",
     "traceback": [
      "\u001b[1;31m---------------------------------------------------------------------------\u001b[0m",
      "\u001b[1;31mAttributeError\u001b[0m                            Traceback (most recent call last)",
      "\u001b[1;32m<ipython-input-7-15ac23b07016>\u001b[0m in \u001b[0;36m<module>\u001b[1;34m\u001b[0m\n\u001b[0;32m      1\u001b[0m \u001b[0ma\u001b[0m\u001b[1;33m=\u001b[0m\u001b[0mnp\u001b[0m\u001b[1;33m.\u001b[0m\u001b[0marray\u001b[0m\u001b[1;33m(\u001b[0m\u001b[1;33m[\u001b[0m\u001b[1;33m]\u001b[0m\u001b[1;33m)\u001b[0m\u001b[1;33m\u001b[0m\u001b[1;33m\u001b[0m\u001b[0m\n\u001b[1;32m----> 2\u001b[1;33m \u001b[0ma\u001b[0m\u001b[1;33m.\u001b[0m\u001b[0mappend\u001b[0m\u001b[1;33m(\u001b[0m\u001b[1;33m[\u001b[0m\u001b[1;36m1\u001b[0m\u001b[1;33m,\u001b[0m\u001b[1;36m2\u001b[0m\u001b[1;33m,\u001b[0m\u001b[1;36m3\u001b[0m\u001b[1;33m]\u001b[0m\u001b[1;33m)\u001b[0m\u001b[1;33m\u001b[0m\u001b[1;33m\u001b[0m\u001b[0m\n\u001b[0m\u001b[0;32m      3\u001b[0m \u001b[0ma\u001b[0m\u001b[1;33m\u001b[0m\u001b[1;33m\u001b[0m\u001b[0m\n",
      "\u001b[1;31mAttributeError\u001b[0m: 'numpy.ndarray' object has no attribute 'append'"
     ]
    }
   ],
   "source": [
    "a=np.array([])\n",
    "\n",
    "a"
   ]
  }
 ],
 "metadata": {
  "kernelspec": {
   "display_name": "Python 3",
   "language": "python",
   "name": "python3"
  },
  "language_info": {
   "codemirror_mode": {
    "name": "ipython",
    "version": 3
   },
   "file_extension": ".py",
   "mimetype": "text/x-python",
   "name": "python",
   "nbconvert_exporter": "python",
   "pygments_lexer": "ipython3",
   "version": "3.8.6"
  },
  "toc": {
   "base_numbering": 1,
   "nav_menu": {},
   "number_sections": true,
   "sideBar": true,
   "skip_h1_title": false,
   "title_cell": "Table of Contents",
   "title_sidebar": "Contents",
   "toc_cell": false,
   "toc_position": {},
   "toc_section_display": true,
   "toc_window_display": false
  }
 },
 "nbformat": 4,
 "nbformat_minor": 4
}
