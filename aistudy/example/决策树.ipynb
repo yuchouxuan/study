{
 "cells": [
  {
   "cell_type": "code",
   "execution_count": 2,
   "metadata": {},
   "outputs": [
    {
     "name": "stdout",
     "output_type": "stream",
     "text": [
      "40\n",
      "              precision    recall  f1-score   support\n",
      "\n",
      "           0       1.00      1.00      1.00        14\n",
      "           1       0.84      0.89      0.86        18\n",
      "           2       0.83      0.77      0.80        13\n",
      "\n",
      "    accuracy                           0.89        45\n",
      "   macro avg       0.89      0.89      0.89        45\n",
      "weighted avg       0.89      0.89      0.89        45\n",
      "\n",
      "[[14  0  0]\n",
      " [ 0 16  2]\n",
      " [ 0  3 10]]\n"
     ]
    }
   ],
   "source": [
    "#决策树\n",
    "import numpy as np\n",
    "import matplotlib.pyplot as plt\n",
    "from sklearn.model_selection import train_test_split\n",
    "from sklearn import metrics\n",
    "\n",
    "from sklearn.datasets import load_iris\n",
    "from sklearn.tree import DecisionTreeClassifier, plot_tree\n",
    "\n",
    "# Load data\n",
    "iris = load_iris()\n",
    "\n",
    "#划分训练集和测试集\n",
    "x_train,x_test,y_train,y_test=train_test_split(iris.data,iris.target,test_size=0.3)\n",
    "\n",
    "#训练，预测\n",
    "clf=DecisionTreeClassifier()\n",
    "clf.fit(x_train,y_train)\n",
    "predict_target=clf.predict(x_test)\n",
    "\n",
    "#预测结果与真实结果的对比\n",
    "print(sum(predict_target==y_test))\n",
    "\n",
    "#输出准确率，召回率，F值\n",
    "print(metrics.classification_report(y_test,predict_target))\n",
    "print(metrics.confusion_matrix(y_test, predict_target))"
   ]
  },
  {
   "cell_type": "code",
   "execution_count": 16,
   "metadata": {},
   "outputs": [
    {
     "name": "stdout",
     "output_type": "stream",
     "text": [
      "40\n",
      "              precision    recall  f1-score   support\n",
      "\n",
      "           0       1.00      1.00      1.00        16\n",
      "           1       0.92      0.75      0.83        16\n",
      "           2       0.75      0.92      0.83        13\n",
      "\n",
      "    accuracy                           0.89        45\n",
      "   macro avg       0.89      0.89      0.89        45\n",
      "weighted avg       0.90      0.89      0.89        45\n",
      "\n"
     ]
    }
   ],
   "source": [
    "#决策树\n",
    "import numpy as np\n",
    "import matplotlib.pyplot as plt\n",
    "from sklearn.model_selection import train_test_split\n",
    "from sklearn import metrics\n",
    "\n",
    "from sklearn.datasets import load_iris\n",
    "from sklearn.tree import DecisionTreeClassifier, plot_tree\n",
    "from sklearn import datasets, ensemble\n",
    "\n",
    "# Load data\n",
    "iris = load_iris()\n",
    "\n",
    "#划分训练集和测试集\n",
    "x_train,x_test,y_train,y_test=train_test_split(iris.data,iris.target,test_size=0.3)\n",
    "\n",
    "#训练，预测\n",
    "clf = ensemble.RandomForestClassifier(max_depth=3, n_estimators=5, max_features=3)\n",
    "clf.fit(x_train,y_train)\n",
    "predict_target=clf.predict(x_test)\n",
    "\n",
    "#预测结果与真实结果的对比\n",
    "print(sum(predict_target==y_test))\n",
    "\n",
    "#输出准确率，召回率，F值\n",
    "print(metrics.classification_report(y_test,predict_target))"
   ]
  },
  {
   "cell_type": "code",
   "execution_count": null,
   "metadata": {},
   "outputs": [],
   "source": []
  }
 ],
 "metadata": {
  "kernelspec": {
   "display_name": "Python 3",
   "language": "python",
   "name": "python3"
  },
  "language_info": {
   "codemirror_mode": {
    "name": "ipython",
    "version": 3
   },
   "file_extension": ".py",
   "mimetype": "text/x-python",
   "name": "python",
   "nbconvert_exporter": "python",
   "pygments_lexer": "ipython3",
   "version": "3.8.6"
  }
 },
 "nbformat": 4,
 "nbformat_minor": 2
}
